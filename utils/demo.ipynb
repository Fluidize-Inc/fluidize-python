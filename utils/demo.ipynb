{
  "cells": [
    {
      "cell_type": "markdown",
      "metadata": {},
      "source": [
        "# Fluidize-Python Interactive Demo\n",
        "\n",
        "This notebook demonstrates the fluidize-python library for managing scientific computing projects.\n",
        "\n",
        "## Setup\n",
        "\n",
        "First, let's import the client and see where our projects will be stored:"
      ]
    },
    {
      "cell_type": "code",
      "execution_count": null,
      "metadata": {},
      "outputs": [],
      "source": [
        "# Import the fluidize client - handlers auto-register!\n",
        "from fluidize.client import FluidizeClient\n",
        "\n",
        "# Create client and config\n",
        "client = FluidizeClient(mode=\"local\")\n",
        "\n",
        "print(f\"\ud83d\udcc1 Projects will be stored in: {client.config.local_projects_path}\")\n",
        "print(f\"\ud83d\udcc1 Base directory: {client.config.local_base_path}\")\n",
        "print(f\"\ud83d\ude80 Client ready in '{client.mode}' mode!\")"
      ]
    },
    {
      "cell_type": "markdown",
      "metadata": {},
      "source": [
        "We now load a project. This contains everything we need to run a simulation pipeline!"
      ]
    },
    {
      "cell_type": "code",
      "execution_count": null,
      "metadata": {},
      "outputs": [],
      "source": [
        "# Get our MUJOCO project for node creation\n",
        "project = client.projects.get(\"MUJOCO\")\n",
        "\n",
        "print(f\"\ud83c\udfaf Working with project: {project.label}\")\n",
        "print(f\"\ud83d\udcca Current graph state: {len(project.graph.get().nodes)} nodes, {len(project.graph.get().edges)} edges\")"
      ]
    },
    {
      "cell_type": "markdown",
      "metadata": {},
      "source": [
        "We now list the parameters that we can tune for this simulation. Here to make it simple, we just have one, which will see in a bit!"
      ]
    },
    {
      "cell_type": "code",
      "execution_count": null,
      "metadata": {},
      "outputs": [],
      "source": [
        "print(project.graph.show_parameters(\"Mujoco-Simulation\"))"
      ]
    },
    {
      "cell_type": "markdown",
      "metadata": {},
      "source": [
        "## Example Run"
      ]
    },
    {
      "cell_type": "markdown",
      "metadata": {},
      "source": [
        "We now run the simulation. The payload here is for you to describe what this run was. All the things like parameters and your source code is automatically tracked for each run. "
      ]
    },
    {
      "cell_type": "code",
      "execution_count": null,
      "metadata": {
        "scrolled": true
      },
      "outputs": [],
      "source": [
        "from fluidize.core.types.runs import RunFlowPayload\n",
        "\n",
        "# Just providing information about what the run is \n",
        "payload = RunFlowPayload(\n",
        "    name=\"simulation-run-1\", description=\"Running with Velocity 20\", tags=[\"simulation\", \"analysis\"]\n",
        ")\n",
        "\n",
        "\n",
        "result = project.runs.run_flow(payload)\n",
        "run_number = result['run_number']"
      ]
    },
    {
      "cell_type": "markdown",
      "metadata": {},
      "source": [
        "## 4. Looking at Results"
      ]
    },
    {
      "cell_type": "code",
      "execution_count": null,
      "metadata": {},
      "outputs": [],
      "source": [
        "# List all output files from the latest run\n",
        "node_id = \"Mujoco-Simulation\"\n",
        "\n",
        "# Get list of output files\n",
        "output_files = project.runs.list_node_outputs(run_number, node_id)\n",
        "print(f\"\ud83d\udcc2 Output files from run {run_number}:\")\n",
        "for file in output_files:\n",
        "    print(f\"  - {file}\")\n",
        "\n",
        "# Get the output path\n",
        "output_path = project.runs.get_output_path(run_number, node_id)\n",
        "print(f\"\\n\ud83d\udcc1 Output directory: {output_path}\")\n",
        "print(f\"Directory exists: {output_path.exists()}\")"
      ]
    },
    {
      "cell_type": "code",
      "execution_count": null,
      "metadata": {},
      "outputs": [],
      "source": [
        "# Create a reusable visualization function\n",
        "from IPython.display import Image, Video, display\n",
        "\n",
        "def visualize_run_results(project, run_number, node_id):\n",
        "    \"\"\"Display all output files from a run\"\"\"\n",
        "    print(f\"\ud83d\udcca Results from Run {run_number} - Node: {node_id}\")\n",
        "    \n",
        "    # Get list of output files\n",
        "    output_files = project.runs.list_node_outputs(run_number, node_id)\n",
        "    print(f\"\ud83d\udcc2 Output files:\")\n",
        "    for file in output_files:\n",
        "        print(f\"  - {file}\")\n",
        "\n",
        "    # Get the output path\n",
        "    output_path = project.runs.get_output_path(run_number, node_id)\n",
        "    print(f\"\\n\ud83d\udcc1 Output directory: {output_path}\")\n",
        "    print(f\"Directory exists: {output_path.exists()}\")\n",
        "    \n",
        "    if not output_files:\n",
        "        print(\"\u274c No output files found!\")\n",
        "        return\n",
        "    \n",
        "    # Look for images and videos\n",
        "    image_files = [f for f in output_files if f.lower().endswith(('.png', '.jpg', '.jpeg', '.gif', '.svg'))]\n",
        "    video_files = [f for f in output_files if f.lower().endswith(('.mp4', '.avi', '.mov', '.webm'))]\n",
        "\n",
        "    print(\"\\n\ud83d\uddbc\ufe0f  Displaying images:\")\n",
        "    for img_file in image_files:\n",
        "        img_path = output_path / img_file\n",
        "        if img_path.exists():\n",
        "            print(f\"\ud83d\udcf7 {img_file}:\")\n",
        "            display(Image(str(img_path), width=800, height=600))\n",
        "        else:\n",
        "            print(f\"\u274c {img_file} not found\")\n",
        "\n",
        "    print(\"\\n\ud83c\udfa5 Displaying videos:\")\n",
        "    for vid_file in video_files:\n",
        "        vid_path = output_path / vid_file\n",
        "        if vid_path.exists():\n",
        "            print(f\"\ud83c\udfac {vid_file}:\")\n",
        "            print(f\"   File size: {vid_path.stat().st_size / 1024 / 1024:.2f} MB\")\n",
        "            display(Video(str(vid_path.absolute()), width=600, height=400, embed=True))\n",
        "        else:\n",
        "            print(f\"\u274c {vid_file} not found\")\n",
        "\n",
        "    if not image_files and not video_files:\n",
        "        print(\"\ud83d\udcdd No image or video files found. Available files:\")\n",
        "        for file in output_files:\n",
        "            file_path = output_path / file\n",
        "            if file_path.exists():\n",
        "                print(f\"  \ud83d\udcc4 {file} ({file_path.stat().st_size} bytes)\")\n",
        "\n",
        "# Test the function with the previous run\n",
        "visualize_run_results(project, run_number, \"Mujoco-Simulation\")"
      ]
    },
    {
      "cell_type": "markdown",
      "metadata": {},
      "source": [
        "## 5. Parameter Experiment - Change Motor Strength and Compare Results"
      ]
    },
    {
      "cell_type": "code",
      "execution_count": null,
      "metadata": {},
      "outputs": [],
      "source": [
        "# Step 1: Change the motor strength parameter from 20.0 to 35.0\n",
        "from fluidize.core.types.parameters import Parameter\n",
        "\n",
        "print(\"\ud83d\udd27 Updating motor strength parameter from 20.0 to 35.0...\")\n",
        "\n",
        "# Create updated parameter\n",
        "new_motor_strength = Parameter(\n",
        "    name=\"motor_strength\",\n",
        "    value=\"35.0\",  # Increased from 20.0 to 35.0\n",
        "    type=\"text\",\n",
        "    label=\"Motor Strength\", \n",
        "    description=\"Control signal strength for bat motor (higher = faster swing, more collision force)\",\n",
        "    scope=\"simulation\",\n",
        "    location=[\"source/pinata_simulation.py\"]\n",
        ")\n",
        "\n",
        "# Update the parameter\n",
        "project.graph.upsert_parameter(\"Mujoco-Simulation\", new_motor_strength)\n",
        "\n",
        "# Show the updated parameters\n",
        "print(\"\\n\u2705 Parameters updated!\")\n",
        "print(project.graph.show_parameters(\"Mujoco-Simulation\"))"
      ]
    },
    {
      "cell_type": "code",
      "execution_count": null,
      "metadata": {},
      "outputs": [],
      "source": [
        "# Step 2: Run a new simulation with the updated parameters\n",
        "from fluidize.core.types.runs import RunFlowPayload\n",
        "\n",
        "print(\"\ud83d\ude80 Starting new simulation with motor strength = 35.0...\")\n",
        "\n",
        "payload = RunFlowPayload(\n",
        "    name=\"high-motor-experiment\", \n",
        "    description=\"Testing increased motor strength (35.0 vs 20.0)\", \n",
        "    tags=[\"experiment\", \"parameter-study\", \"high-power\"]\n",
        ")\n",
        "\n",
        "result = project.runs.run_flow(payload)\n",
        "new_run_number = result['run_number']\n",
        "\n",
        "print(f\"\u2705 Simulation started! Run number: {new_run_number}\")\n",
        "print(f\"Status: {result['flow_status']}\")\n",
        "print(\"\\n\u23f3 Wait a moment for simulation to complete, then run the next cell...\")"
      ]
    },
    {
      "cell_type": "code",
      "execution_count": null,
      "metadata": {},
      "outputs": [],
      "source": [
        "# Step 3: Visualize the new results using our reusable function\n",
        "print(\"\ud83d\udcca Results from the HIGH motor strength simulation (35.0):\")\n",
        "print(\"=\"*60)\n",
        "\n",
        "# Use the new_run_number from the previous cell\n",
        "visualize_run_results(project, new_run_number, \"Mujoco-Simulation\")"
      ]
    },
    {
      "cell_type": "code",
      "execution_count": null,
      "metadata": {},
      "outputs": [],
      "source": [
        "# Step 4: Compare with the previous results (motor strength = 20.0)\n",
        "print(\"\ud83d\udcca COMPARISON - Results from the NORMAL motor strength simulation (20.0):\")\n",
        "print(\"=\"*60)\n",
        "\n",
        "# Show the previous run results for comparison\n",
        "visualize_run_results(project, 11, \"Mujoco-Simulation\")  # Run 11 was with motor_strength=20.0"
      ]
    },
    {
      "cell_type": "code",
      "execution_count": null,
      "metadata": {},
      "outputs": [],
      "source": []
    }
  ],
  "metadata": {
    "kernelspec": {
      "display_name": "fluidize-python",
      "language": "python",
      "name": "python3"
    },
    "language_info": {
      "codemirror_mode": {
        "name": "ipython",
        "version": 3
      },
      "file_extension": ".py",
      "mimetype": "text/x-python",
      "name": "python",
      "nbconvert_exporter": "python",
      "pygments_lexer": "ipython3",
      "version": "3.10.18"
    }
  },
  "nbformat": 4,
  "nbformat_minor": 4
}
