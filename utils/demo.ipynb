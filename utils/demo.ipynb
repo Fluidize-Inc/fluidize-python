{
  "cells": [
    {
      "cell_type": "markdown",
      "metadata": {},
      "source": [
        "# Fluidize-Python Interactive Demo\n",
        "\n",
        "This notebook demonstrates the fluidize-python library for managing scientific computing projects.\n",
        "\n",
        "## Setup\n",
        "\n",
        "First, let's import the client and see where our projects will be stored:"
      ]
    },
    {
      "cell_type": "code",
      "execution_count": 1,
      "metadata": {},
      "outputs": [
        {
          "name": "stdout",
          "output_type": "stream",
          "text": [
            "\ud83d\udcc1 Projects will be stored in: /Users/henrybae/.fluidize/projects\n",
            "\ud83d\udcc1 Base directory: /Users/henrybae/.fluidize\n",
            "\ud83d\ude80 Client ready in 'local' mode!\n"
          ]
        }
      ],
      "source": [
        "# Import the fluidize client - handlers auto-register!\n",
        "from fluidize.client import FluidizeClient\n",
        "\n",
        "# Create client and config\n",
        "client = FluidizeClient(mode=\"local\")\n",
        "\n",
        "print(f\"\ud83d\udcc1 Projects will be stored in: {client.config.local_projects_path}\")\n",
        "print(f\"\ud83d\udcc1 Base directory: {client.config.local_base_path}\")\n",
        "print(f\"\ud83d\ude80 Client ready in '{client.mode}' mode!\")"
      ]
    },
    {
      "cell_type": "code",
      "execution_count": 2,
      "metadata": {},
      "outputs": [
        {
          "name": "stdout",
          "output_type": "stream",
          "text": [
            "\ud83c\udfaf Working with project: MUJOCO DEMO\n",
            "\ud83d\udcca Current graph state: 1 nodes, 0 edges\n"
          ]
        }
      ],
      "source": [
        "# Get our MUJOCO project for node creation\n",
        "project = client.projects.get(\"MUJOCO\")\n",
        "\n",
        "print(f\"\ud83c\udfaf Working with project: {project.label}\")\n",
        "print(f\"\ud83d\udcca Current graph state: {len(project.graph.get().nodes)} nodes, {len(project.graph.get().edges)} edges\")"
      ]
    },
    {
      "cell_type": "code",
      "execution_count": 3,
      "metadata": {},
      "outputs": [
        {
          "data": {
            "text/plain": [
              "[Parameter(value='20.0', description='Control signal strength for bat motor (higher = faster swing, more collision force)', type='text', label='Motor Strength', name='motor_strength', latex=None, location=['source/pinata_simulation.py'], options=None, scope='simulation')]"
            ]
          },
          "execution_count": 3,
          "metadata": {},
          "output_type": "execute_result"
        }
      ],
      "source": [
        "# Let's now get the list of parameters:\n",
        "\n",
        "project.graph.get_parameters(\"Mujoco-Simulation\")\n"
      ]
    },
    {
      "cell_type": "markdown",
      "metadata": {},
      "source": [
        "## Example Run"
      ]
    },
    {
      "cell_type": "code",
      "execution_count": 2,
      "metadata": {},
      "outputs": [
        {
          "name": "stdout",
          "output_type": "stream",
          "text": [
            "\ud83d\udcca Project Details:\n",
            "   ID: MUJOCO\n",
            "   Label: MUJOCO DEMO\n",
            "   Description: A MuJoCo simulation project\n",
            "   Status: active\n",
            "   Location: \n",
            "   Metadata Version: 1.0\n"
          ]
        }
      ],
      "source": [
        "# Get project details\n",
        "project = client.projects.get(\"MUJOCO\")\n",
        "\n",
        "print(\"\ud83d\udcca Project Details:\")\n",
        "print(f\"   ID: {project.id}\")\n",
        "print(f\"   Label: {project.label}\")\n",
        "print(f\"   Description: {project.description}\")\n",
        "print(f\"   Status: {project.status}\")\n",
        "print(f\"   Location: {project.location}\")\n",
        "print(f\"   Metadata Version: {project.metadata_version}\")"
      ]
    },
    {
      "cell_type": "code",
      "execution_count": null,
      "metadata": {
        "scrolled": true
      },
      "outputs": [
        {
          "name": "stdout",
          "output_type": "stream",
          "text": [
            "No start node provided, using first node: Mujoco-Simulation\n",
            "BFS traversal starting from node 'Mujoco-Simulation':\n",
            "  - Adding node to traversal: Mujoco-Simulation, previous node: None\n",
            "Nodes to run: ['Mujoco-Simulation']\n",
            "Created project run folder: /Users/henrybae/.fluidize/projects/MUJOCO/runs/run_10\n",
            "Created run environment with number: 10\n"
          ]
        },
        {
          "data": {
            "text/plain": [
              "{'flow_status': 'running', 'run_number': 10}"
            ]
          },
          "execution_count": 4,
          "metadata": {},
          "output_type": "execute_result"
        },
        {
          "name": "stderr",
          "output_type": "stream",
          "text": [
            "No parameters.json found for node Mujoco-Simulation\n"
          ]
        },
        {
          "name": "stdout",
          "output_type": "stream",
          "text": [
            "Executing node Mujoco-Simulation in run 10\n",
            "\n",
            "=== Starting run for node: Mujoco-Simulation ===\n",
            "1. Preparing environment...\n",
            "\ud83d\udd0d [Environment] DEBUG: Attempting to load parameters from /Users/henrybae/.fluidize/projects/MUJOCO/runs/run_10/Mujoco-Simulation\n",
            "\ud83d\udd0d [Environment] DEBUG: Loaded param_data = {'metadata': {'description': 'Parameter tuning for pinata motor strength', 'version': '1.0'}, 'parameters': [{'name': 'motor_strength', 'value': '20.0', 'type': 'text', 'label': 'Motor Strength', 'description': 'Control signal strength for bat motor (higher = faster swing, more collision force)', 'scope': 'simulation', 'location': ['source/pinata_simulation.py']}]}\n",
            "\ud83d\udd0d [Environment] DEBUG: all_params = [{'name': 'motor_strength', 'value': '20.0', 'type': 'text', 'label': 'Motor Strength', 'description': 'Control signal strength for bat motor (higher = faster swing, more collision force)', 'scope': 'simulation', 'location': ['source/pinata_simulation.py']}]\n",
            "\ud83d\udd0d [Environment] DEBUG: Found 1 simulation params, 0 properties params\n",
            "\ud83d\udd0d [Environment] DEBUG: simulation_params = [{'name': 'motor_strength', 'value': '20.0', 'type': 'text', 'label': 'Motor Strength', 'description': 'Control signal strength for bat motor (higher = faster swing, more collision force)', 'scope': 'simulation', 'location': ['source/pinata_simulation.py']}]\n",
            "\ud83d\udd0d [Environment] DEBUG: properties_params = []\n",
            "\ud83d\udd0d [Environment] DEBUG: context = {'motor_strength': '20.0'}\n",
            "\ud83d\udd0d [Environment] DEBUG: param_locations = {'motor_strength': ['source/pinata_simulation.py']}\n",
            "\ud83d\udd0d [Environment] DEBUG: node_run_folder = /Users/henrybae/.fluidize/projects/MUJOCO/runs/run_10/Mujoco-Simulation\n",
            "\ud83d\udd0d [Environment] DEBUG: checking location_path = /Users/henrybae/.fluidize/projects/MUJOCO/runs/run_10/Mujoco-Simulation/source/pinata_simulation.py, exists = True\n",
            "\ud83d\udd27 [Environment] Processing 1 targeted files (vs exhaustive search)\n",
            "\ud83d\udd0d [Environment] DEBUG: files_to_process = [PosixUPath('/Users/henrybae/.fluidize/projects/MUJOCO/runs/run_10/Mujoco-Simulation/source/pinata_simulation.py')]\n",
            "\ud83d\udcdd [Environment] Updated parameters in: source/pinata_simulation.py\n",
            "2. Executing simulation...\n",
            "3. Handling files...\n",
            "=== Run completed for node: Mujoco-Simulation with result: True ===\n",
            "\n"
          ]
        }
      ],
      "source": [
        "from fluidize.core.types.runs import RunFlowPayload\n",
        "\n",
        "payload = RunFlowPayload(\n",
        "    name=\"simulation-run-1\", description=\"Running simulation flow\", tags=[\"simulation\", \"analysis\"]\n",
        ")\n",
        "\n",
        "\n",
        "project.runs.run_flow(payload)"
      ]
    },
    {
      "cell_type": "markdown",
      "metadata": {},
      "source": [
        "## 4. Updating Projects\n",
        "\n",
        "Modify existing projects:"
      ]
    }
  ],
  "metadata": {
    "kernelspec": {
      "display_name": "fluidize-python",
      "language": "python",
      "name": "python3"
    },
    "language_info": {
      "codemirror_mode": {
        "name": "ipython",
        "version": 3
      },
      "file_extension": ".py",
      "mimetype": "text/x-python",
      "name": "python",
      "nbconvert_exporter": "python",
      "pygments_lexer": "ipython3",
      "version": "3.10.18"
    }
  },
  "nbformat": 4,
  "nbformat_minor": 4
}
