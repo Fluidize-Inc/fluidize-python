{
  "cells": [
    {
      "cell_type": "markdown",
      "metadata": {},
      "source": [
        "# Fluidize-Python Interactive Demo\n",
        "\n",
        "This notebook demonstrates the fluidize-python library for managing scientific computing projects.\n",
        "\n",
        "## Setup\n",
        "\n",
        "First, let's import the client and see where our projects will be stored:"
      ]
    },
    {
      "cell_type": "code",
      "execution_count": 1,
      "metadata": {},
      "outputs": [
        {
          "name": "stdout",
          "output_type": "stream",
          "text": [
            "\ud83d\udcc1 Projects will be stored in: /Users/henrybae/.fluidize/projects\n",
            "\ud83d\udcc1 Base directory: /Users/henrybae/.fluidize\n",
            "\ud83d\ude80 Client ready in 'local' mode!\n"
          ]
        }
      ],
      "source": [
        "# Import the fluidize client - handlers auto-register!\n",
        "from fluidize.client import FluidizeClient\n",
        "\n",
        "# Create client and config\n",
        "client = FluidizeClient(mode=\"local\")\n",
        "\n",
        "print(f\"\ud83d\udcc1 Projects will be stored in: {client.config.local_projects_path}\")\n",
        "print(f\"\ud83d\udcc1 Base directory: {client.config.local_base_path}\")\n",
        "print(f\"\ud83d\ude80 Client ready in '{client.mode}' mode!\")"
      ]
    },
    {
      "cell_type": "code",
      "execution_count": 2,
      "metadata": {},
      "outputs": [
        {
          "name": "stdout",
          "output_type": "stream",
          "text": [
            "\ud83c\udfaf Working with project: MUJOCO DEMO\n",
            "\ud83d\udcca Current graph state: 1 nodes, 0 edges\n"
          ]
        }
      ],
      "source": [
        "# Get our MUJOCO project for node creation\n",
        "project = client.projects.get(\"MUJOCO\")\n",
        "\n",
        "print(f\"\ud83c\udfaf Working with project: {project.label}\")\n",
        "print(f\"\ud83d\udcca Current graph state: {len(project.graph.get().nodes)} nodes, {len(project.graph.get().edges)} edges\")"
      ]
    },
    {
      "cell_type": "code",
      "execution_count": 3,
      "metadata": {},
      "outputs": [
        {
          "name": "stdout",
          "output_type": "stream",
          "text": [
            "Parameters for node 'Mujoco-Simulation':\n",
            "\n",
            "Parameter 1:\n",
            "  Name: motor_strength\n",
            "  Value: 20.0\n",
            "  Description: Control signal strength for bat motor (higher = faster swing, more collision force)\n",
            "  Type: text\n",
            "  Label: Motor Strength\n",
            "  Scope: simulation\n",
            "  Location: source/pinata_simulation.py, source/pinata_simulation.py, source/pinata_simulation.py, source/pinata_simulation.py, source/pinata_simulation.py\n"
          ]
        }
      ],
      "source": [
        "# Let's now get the list of parameters:\n",
        "\n",
        "print(project.graph.show_parameters(\"Mujoco-Simulation\"))"
      ]
    },
    {
      "cell_type": "markdown",
      "metadata": {},
      "source": [
        "## Example Run"
      ]
    },
    {
      "cell_type": "code",
      "execution_count": null,
      "metadata": {
        "scrolled": true
      },
      "outputs": [],
      "source": [
        "from fluidize.core.types.runs import RunFlowPayload\n",
        "\n",
        "# Just providing information about what the run is \n",
        "payload = RunFlowPayload(\n",
        "    name=\"simulation-run-1\", description=\"Running with Velocity 20\", tags=[\"simulation\", \"analysis\"]\n",
        ")\n",
        "\n",
        "\n",
        "project.runs.run_flow(payload)"
      ]
    },
    {
      "cell_type": "markdown",
      "metadata": {},
      "source": [
        "## 4. Looking at Results"
      ]
    },
    {
      "cell_type": "code",
      "execution_count": null,
      "metadata": {},
      "outputs": [
        {
          "name": "stdout",
          "output_type": "stream",
          "text": [
            "\ud83d\udcc2 Output files from run 11:\n",
            "  - videos/pinata_simulation_20250813_215249.mp4\n",
            "  - logs/simulation_log_20250813_215249.txt\n",
            "  - data/sensor_data_20250813_215249.csv\n",
            "  - data/simulation_data_20250813_215249.npz\n",
            "  - plots/comprehensive_analysis_20250813_215249.png\n",
            "\n",
            "\ud83d\udcc1 Output directory: /Users/henrybae/.fluidize/projects/MUJOCO/runs/run_11/outputs/Mujoco-Simulation\n",
            "Directory exists: True\n"
          ]
        }
      ],
      "source": [
        "# List all output files from the latest run\n",
        "run_number = 1  # Using the last run\n",
        "node_id = \"Mujoco-Simulation\"\n",
        "\n",
        "# Get list of output files\n",
        "output_files = project.runs.list_node_outputs(run_number, node_id)\n",
        "print(f\"\ud83d\udcc2 Output files from run {run_number}:\")\n",
        "for file in output_files:\n",
        "    print(f\"  - {file}\")\n",
        "\n",
        "# Get the output path\n",
        "output_path = project.runs.get_output_path(run_number, node_id)\n",
        "print(f\"\\n\ud83d\udcc1 Output directory: {output_path}\")\n",
        "print(f\"Directory exists: {output_path.exists()}\")"
      ]
    },
    {
      "cell_type": "code",
      "execution_count": 6,
      "metadata": {},
      "outputs": [
        {
          "ename": "KeyboardInterrupt",
          "evalue": "",
          "output_type": "error",
          "traceback": [
            "\u001b[0;31m---------------------------------------------------------------------------\u001b[0m",
            "\u001b[0;31mKeyboardInterrupt\u001b[0m                         Traceback (most recent call last)",
            "Cell \u001b[0;32mIn[6], line 2\u001b[0m\n\u001b[1;32m      1\u001b[0m \u001b[38;5;66;03m# Create a reusable visualization function\u001b[39;00m\n\u001b[0;32m----> 2\u001b[0m \u001b[38;5;28;01mfrom\u001b[39;00m\u001b[38;5;250m \u001b[39m\u001b[38;5;21;01mIPython\u001b[39;00m\u001b[38;5;21;01m.\u001b[39;00m\u001b[38;5;21;01mdisplay\u001b[39;00m\u001b[38;5;250m \u001b[39m\u001b[38;5;28;01mimport\u001b[39;00m Image, Video, display\n\u001b[1;32m      4\u001b[0m \u001b[38;5;28;01mdef\u001b[39;00m\u001b[38;5;250m \u001b[39m\u001b[38;5;21mvisualize_run_results\u001b[39m(project, run_number, node_id):\n\u001b[1;32m      5\u001b[0m \u001b[38;5;250m    \u001b[39m\u001b[38;5;124;03m\"\"\"Display all output files from a run\"\"\"\u001b[39;00m\n",
            "Cell \u001b[0;32mIn[6], line 2\u001b[0m\n\u001b[1;32m      1\u001b[0m \u001b[38;5;66;03m# Create a reusable visualization function\u001b[39;00m\n\u001b[0;32m----> 2\u001b[0m \u001b[38;5;28;01mfrom\u001b[39;00m\u001b[38;5;250m \u001b[39m\u001b[38;5;21;01mIPython\u001b[39;00m\u001b[38;5;21;01m.\u001b[39;00m\u001b[38;5;21;01mdisplay\u001b[39;00m\u001b[38;5;250m \u001b[39m\u001b[38;5;28;01mimport\u001b[39;00m Image, Video, display\n\u001b[1;32m      4\u001b[0m \u001b[38;5;28;01mdef\u001b[39;00m\u001b[38;5;250m \u001b[39m\u001b[38;5;21mvisualize_run_results\u001b[39m(project, run_number, node_id):\n\u001b[1;32m      5\u001b[0m \u001b[38;5;250m    \u001b[39m\u001b[38;5;124;03m\"\"\"Display all output files from a run\"\"\"\u001b[39;00m\n",
            "File \u001b[0;32m~/Files/GitHub/fluidize-python/.venv/lib/python3.10/site-packages/debugpy/_vendored/pydevd/_pydevd_bundle/pydevd_frame.py:768\u001b[0m, in \u001b[0;36mPyDBFrame.trace_dispatch\u001b[0;34m(self, frame, event, arg)\u001b[0m\n\u001b[1;32m    766\u001b[0m \u001b[38;5;66;03m# if thread has a suspend flag, we suspend with a busy wait\u001b[39;00m\n\u001b[1;32m    767\u001b[0m \u001b[38;5;28;01mif\u001b[39;00m info\u001b[38;5;241m.\u001b[39mpydev_state \u001b[38;5;241m==\u001b[39m STATE_SUSPEND:\n\u001b[0;32m--> 768\u001b[0m     \u001b[38;5;28;43mself\u001b[39;49m\u001b[38;5;241;43m.\u001b[39;49m\u001b[43mdo_wait_suspend\u001b[49m\u001b[43m(\u001b[49m\u001b[43mthread\u001b[49m\u001b[43m,\u001b[49m\u001b[43m \u001b[49m\u001b[43mframe\u001b[49m\u001b[43m,\u001b[49m\u001b[43m \u001b[49m\u001b[43mevent\u001b[49m\u001b[43m,\u001b[49m\u001b[43m \u001b[49m\u001b[43marg\u001b[49m\u001b[43m)\u001b[49m\n\u001b[1;32m    769\u001b[0m     \u001b[38;5;28;01mreturn\u001b[39;00m \u001b[38;5;28mself\u001b[39m\u001b[38;5;241m.\u001b[39mtrace_dispatch\n\u001b[1;32m    770\u001b[0m \u001b[38;5;28;01melse\u001b[39;00m:\n",
            "File \u001b[0;32m~/Files/GitHub/fluidize-python/.venv/lib/python3.10/site-packages/debugpy/_vendored/pydevd/_pydevd_bundle/pydevd_frame.py:172\u001b[0m, in \u001b[0;36mPyDBFrame.do_wait_suspend\u001b[0;34m(self, *args, **kwargs)\u001b[0m\n\u001b[1;32m    171\u001b[0m \u001b[38;5;28;01mdef\u001b[39;00m\u001b[38;5;250m \u001b[39m\u001b[38;5;21mdo_wait_suspend\u001b[39m(\u001b[38;5;28mself\u001b[39m, \u001b[38;5;241m*\u001b[39margs, \u001b[38;5;241m*\u001b[39m\u001b[38;5;241m*\u001b[39mkwargs):\n\u001b[0;32m--> 172\u001b[0m     \u001b[38;5;28;43mself\u001b[39;49m\u001b[38;5;241;43m.\u001b[39;49m\u001b[43m_args\u001b[49m\u001b[43m[\u001b[49m\u001b[38;5;241;43m0\u001b[39;49m\u001b[43m]\u001b[49m\u001b[38;5;241;43m.\u001b[39;49m\u001b[43mdo_wait_suspend\u001b[49m\u001b[43m(\u001b[49m\u001b[38;5;241;43m*\u001b[39;49m\u001b[43margs\u001b[49m\u001b[43m,\u001b[49m\u001b[43m \u001b[49m\u001b[38;5;241;43m*\u001b[39;49m\u001b[38;5;241;43m*\u001b[39;49m\u001b[43mkwargs\u001b[49m\u001b[43m)\u001b[49m\n",
            "File \u001b[0;32m~/Files/GitHub/fluidize-python/.venv/lib/python3.10/site-packages/debugpy/_vendored/pydevd/pydevd.py:2188\u001b[0m, in \u001b[0;36mPyDB.do_wait_suspend\u001b[0;34m(self, thread, frame, event, arg, exception_type)\u001b[0m\n\u001b[1;32m   2185\u001b[0m             from_this_thread\u001b[38;5;241m.\u001b[39mappend(frame_custom_thread_id)\n\u001b[1;32m   2187\u001b[0m     \u001b[38;5;28;01mwith\u001b[39;00m \u001b[38;5;28mself\u001b[39m\u001b[38;5;241m.\u001b[39m_threads_suspended_single_notification\u001b[38;5;241m.\u001b[39mnotify_thread_suspended(thread_id, thread, stop_reason):\n\u001b[0;32m-> 2188\u001b[0m         keep_suspended \u001b[38;5;241m=\u001b[39m \u001b[38;5;28;43mself\u001b[39;49m\u001b[38;5;241;43m.\u001b[39;49m\u001b[43m_do_wait_suspend\u001b[49m\u001b[43m(\u001b[49m\u001b[43mthread\u001b[49m\u001b[43m,\u001b[49m\u001b[43m \u001b[49m\u001b[43mframe\u001b[49m\u001b[43m,\u001b[49m\u001b[43m \u001b[49m\u001b[43mevent\u001b[49m\u001b[43m,\u001b[49m\u001b[43m \u001b[49m\u001b[43marg\u001b[49m\u001b[43m,\u001b[49m\u001b[43m \u001b[49m\u001b[43mtrace_suspend_type\u001b[49m\u001b[43m,\u001b[49m\u001b[43m \u001b[49m\u001b[43mfrom_this_thread\u001b[49m\u001b[43m,\u001b[49m\u001b[43m \u001b[49m\u001b[43mframes_tracker\u001b[49m\u001b[43m)\u001b[49m\n\u001b[1;32m   2190\u001b[0m frames_list \u001b[38;5;241m=\u001b[39m \u001b[38;5;28;01mNone\u001b[39;00m\n\u001b[1;32m   2192\u001b[0m \u001b[38;5;28;01mif\u001b[39;00m keep_suspended:\n\u001b[1;32m   2193\u001b[0m     \u001b[38;5;66;03m# This means that we should pause again after a set next statement.\u001b[39;00m\n",
            "File \u001b[0;32m~/Files/GitHub/fluidize-python/.venv/lib/python3.10/site-packages/debugpy/_vendored/pydevd/pydevd.py:2257\u001b[0m, in \u001b[0;36mPyDB._do_wait_suspend\u001b[0;34m(self, thread, frame, event, arg, trace_suspend_type, from_this_thread, frames_tracker)\u001b[0m\n\u001b[1;32m   2254\u001b[0m                 queue\u001b[38;5;241m.\u001b[39mput(internal_cmd)\n\u001b[1;32m   2255\u001b[0m                 wait_timeout \u001b[38;5;241m=\u001b[39m TIMEOUT_FAST\n\u001b[0;32m-> 2257\u001b[0m         \u001b[43mnotify_event\u001b[49m\u001b[38;5;241;43m.\u001b[39;49m\u001b[43mwait\u001b[49m\u001b[43m(\u001b[49m\u001b[43mwait_timeout\u001b[49m\u001b[43m)\u001b[49m\n\u001b[1;32m   2258\u001b[0m         notify_event\u001b[38;5;241m.\u001b[39mclear()\n\u001b[1;32m   2260\u001b[0m \u001b[38;5;28;01mfinally\u001b[39;00m:\n",
            "File \u001b[0;32m~/.pyenv/versions/3.10.18/lib/python3.10/threading.py:607\u001b[0m, in \u001b[0;36mEvent.wait\u001b[0;34m(self, timeout)\u001b[0m\n\u001b[1;32m    605\u001b[0m signaled \u001b[38;5;241m=\u001b[39m \u001b[38;5;28mself\u001b[39m\u001b[38;5;241m.\u001b[39m_flag\n\u001b[1;32m    606\u001b[0m \u001b[38;5;28;01mif\u001b[39;00m \u001b[38;5;129;01mnot\u001b[39;00m signaled:\n\u001b[0;32m--> 607\u001b[0m     signaled \u001b[38;5;241m=\u001b[39m \u001b[38;5;28;43mself\u001b[39;49m\u001b[38;5;241;43m.\u001b[39;49m\u001b[43m_cond\u001b[49m\u001b[38;5;241;43m.\u001b[39;49m\u001b[43mwait\u001b[49m\u001b[43m(\u001b[49m\u001b[43mtimeout\u001b[49m\u001b[43m)\u001b[49m\n\u001b[1;32m    608\u001b[0m \u001b[38;5;28;01mreturn\u001b[39;00m signaled\n",
            "File \u001b[0;32m~/.pyenv/versions/3.10.18/lib/python3.10/threading.py:324\u001b[0m, in \u001b[0;36mCondition.wait\u001b[0;34m(self, timeout)\u001b[0m\n\u001b[1;32m    322\u001b[0m \u001b[38;5;28;01melse\u001b[39;00m:\n\u001b[1;32m    323\u001b[0m     \u001b[38;5;28;01mif\u001b[39;00m timeout \u001b[38;5;241m>\u001b[39m \u001b[38;5;241m0\u001b[39m:\n\u001b[0;32m--> 324\u001b[0m         gotit \u001b[38;5;241m=\u001b[39m \u001b[43mwaiter\u001b[49m\u001b[38;5;241;43m.\u001b[39;49m\u001b[43macquire\u001b[49m\u001b[43m(\u001b[49m\u001b[38;5;28;43;01mTrue\u001b[39;49;00m\u001b[43m,\u001b[49m\u001b[43m \u001b[49m\u001b[43mtimeout\u001b[49m\u001b[43m)\u001b[49m\n\u001b[1;32m    325\u001b[0m     \u001b[38;5;28;01melse\u001b[39;00m:\n\u001b[1;32m    326\u001b[0m         gotit \u001b[38;5;241m=\u001b[39m waiter\u001b[38;5;241m.\u001b[39macquire(\u001b[38;5;28;01mFalse\u001b[39;00m)\n",
            "\u001b[0;31mKeyboardInterrupt\u001b[0m: "
          ]
        }
      ],
      "source": [
        "# Create a reusable visualization function\n",
        "from IPython.display import Image, Video, display\n",
        "\n",
        "def visualize_run_results(project, run_number, node_id):\n",
        "    \"\"\"Display all output files from a run\"\"\"\n",
        "    print(f\"\ud83d\udcca Results from Run {run_number} - Node: {node_id}\")\n",
        "    \n",
        "    # Get list of output files\n",
        "    output_files = project.runs.list_node_outputs(run_number, node_id)\n",
        "    print(f\"\ud83d\udcc2 Output files:\")\n",
        "    for file in output_files:\n",
        "        print(f\"  - {file}\")\n",
        "\n",
        "    # Get the output path\n",
        "    output_path = project.runs.get_output_path(run_number, node_id)\n",
        "    print(f\"\\n\ud83d\udcc1 Output directory: {output_path}\")\n",
        "    print(f\"Directory exists: {output_path.exists()}\")\n",
        "    \n",
        "    if not output_files:\n",
        "        print(\"\u274c No output files found!\")\n",
        "        return\n",
        "    \n",
        "    # Look for images and videos\n",
        "    image_files = [f for f in output_files if f.lower().endswith(('.png', '.jpg', '.jpeg', '.gif', '.svg'))]\n",
        "    video_files = [f for f in output_files if f.lower().endswith(('.mp4', '.avi', '.mov', '.webm'))]\n",
        "\n",
        "    print(\"\\n\ud83d\uddbc\ufe0f  Displaying images:\")\n",
        "    for img_file in image_files:\n",
        "        img_path = output_path / img_file\n",
        "        if img_path.exists():\n",
        "            print(f\"\ud83d\udcf7 {img_file}:\")\n",
        "            display(Image(str(img_path)))\n",
        "        else:\n",
        "            print(f\"\u274c {img_file} not found\")\n",
        "\n",
        "    print(\"\\n\ud83c\udfa5 Displaying videos:\")\n",
        "    for vid_file in video_files:\n",
        "        vid_path = output_path / vid_file\n",
        "        if vid_path.exists():\n",
        "            print(f\"\ud83c\udfac {vid_file}:\")\n",
        "            print(f\"   File size: {vid_path.stat().st_size / 1024 / 1024:.2f} MB\")\n",
        "            display(Video(str(vid_path.absolute()), width=600, height=400, embed=True))\n",
        "        else:\n",
        "            print(f\"\u274c {vid_file} not found\")\n",
        "\n",
        "    if not image_files and not video_files:\n",
        "        print(\"\ud83d\udcdd No image or video files found. Available files:\")\n",
        "        for file in output_files:\n",
        "            file_path = output_path / file\n",
        "            if file_path.exists():\n",
        "                print(f\"  \ud83d\udcc4 {file} ({file_path.stat().st_size} bytes)\")\n",
        "\n",
        "# Test the function with the previous run\n",
        "visualize_run_results(project, 11, \"Mujoco-Simulation\")"
      ]
    },
    {
      "cell_type": "markdown",
      "metadata": {},
      "source": [
        "## 5. Parameter Experiment - Change Motor Strength and Compare Results"
      ]
    },
    {
      "cell_type": "code",
      "execution_count": null,
      "metadata": {},
      "outputs": [],
      "source": [
        "# Step 1: Change the motor strength parameter from 20.0 to 35.0\n",
        "from fluidize.core.types.parameters import Parameter\n",
        "\n",
        "print(\"\ud83d\udd27 Updating motor strength parameter from 20.0 to 35.0...\")\n",
        "\n",
        "# Create updated parameter\n",
        "new_motor_strength = Parameter(\n",
        "    name=\"motor_strength\",\n",
        "    value=\"35.0\",  # Increased from 20.0 to 35.0\n",
        "    type=\"text\",\n",
        "    label=\"Motor Strength\", \n",
        "    description=\"Control signal strength for bat motor (higher = faster swing, more collision force)\",\n",
        "    scope=\"simulation\",\n",
        "    location=[\"source/pinata_simulation.py\"]\n",
        ")\n",
        "\n",
        "# Update the parameter\n",
        "project.graph.upsert_parameter(\"Mujoco-Simulation\", new_motor_strength)\n",
        "\n",
        "# Show the updated parameters\n",
        "print(\"\\n\u2705 Parameters updated!\")\n",
        "print(project.graph.show_parameters(\"Mujoco-Simulation\"))"
      ]
    },
    {
      "cell_type": "code",
      "execution_count": null,
      "metadata": {},
      "outputs": [],
      "source": [
        "# Step 2: Run a new simulation with the updated parameters\n",
        "from fluidize.core.types.runs import RunFlowPayload\n",
        "\n",
        "print(\"\ud83d\ude80 Starting new simulation with motor strength = 35.0...\")\n",
        "\n",
        "payload = RunFlowPayload(\n",
        "    name=\"high-motor-experiment\", \n",
        "    description=\"Testing increased motor strength (35.0 vs 20.0)\", \n",
        "    tags=[\"experiment\", \"parameter-study\", \"high-power\"]\n",
        ")\n",
        "\n",
        "result = project.runs.run_flow(payload)\n",
        "new_run_number = result['run_number']\n",
        "\n",
        "print(f\"\u2705 Simulation started! Run number: {new_run_number}\")\n",
        "print(f\"Status: {result['flow_status']}\")\n",
        "print(\"\\n\u23f3 Wait a moment for simulation to complete, then run the next cell...\")"
      ]
    },
    {
      "cell_type": "code",
      "execution_count": null,
      "metadata": {},
      "outputs": [],
      "source": [
        "# Step 3: Visualize the new results using our reusable function\n",
        "print(\"\ud83d\udcca Results from the HIGH motor strength simulation (35.0):\")\n",
        "print(\"=\"*60)\n",
        "\n",
        "# Use the new_run_number from the previous cell\n",
        "visualize_run_results(project, new_run_number, \"Mujoco-Simulation\")"
      ]
    },
    {
      "cell_type": "code",
      "execution_count": null,
      "metadata": {},
      "outputs": [],
      "source": [
        "# Step 4: Compare with the previous results (motor strength = 20.0)\n",
        "print(\"\ud83d\udcca COMPARISON - Results from the NORMAL motor strength simulation (20.0):\")\n",
        "print(\"=\"*60)\n",
        "\n",
        "# Show the previous run results for comparison\n",
        "visualize_run_results(project, 11, \"Mujoco-Simulation\")  # Run 11 was with motor_strength=20.0"
      ]
    }
  ],
  "metadata": {
    "kernelspec": {
      "display_name": "fluidize-python",
      "language": "python",
      "name": "python3"
    },
    "language_info": {
      "codemirror_mode": {
        "name": "ipython",
        "version": 3
      },
      "file_extension": ".py",
      "mimetype": "text/x-python",
      "name": "python",
      "nbconvert_exporter": "python",
      "pygments_lexer": "ipython3",
      "version": "3.10.18"
    }
  },
  "nbformat": 4,
  "nbformat_minor": 4
}
