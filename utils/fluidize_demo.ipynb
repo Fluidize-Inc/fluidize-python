{
  "cells": [
    {
      "cell_type": "markdown",
      "metadata": {},
      "source": [
        "# Fluidize-Python Interactive Demo\n",
        "\n",
        "This notebook demonstrates the fluidize-python library for managing scientific computing projects.\n",
        "\n",
        "## Setup\n",
        "\n",
        "First, let's import the client and see where our projects will be stored:"
      ]
    },
    {
      "cell_type": "code",
      "execution_count": null,
      "metadata": {},
      "outputs": [],
      "source": [
        "# Import the fluidize client - handlers auto-register!\n",
        "from fluidize.client import FluidizeClient\n",
        "from fluidize.config import FluidizeConfig\n",
        "\n",
        "# Create client and config\n",
        "client = FluidizeClient(mode=\"local\")\n",
        "config = FluidizeConfig(mode=\"local\")\n",
        "\n",
        "print(f\"\ud83d\udcc1 Projects will be stored in: {config.local_projects_path}\")\n",
        "print(f\"\ud83d\udcc1 Base directory: {config.local_base_path}\")\n",
        "print(f\"\ud83d\ude80 Client ready in '{client.mode}' mode!\")"
      ]
    },
    {
      "cell_type": "markdown",
      "metadata": {},
      "source": [
        "## 1. Creating Projects\n",
        "\n",
        "Let's create some projects with different configurations:"
      ]
    },
    {
      "cell_type": "code",
      "execution_count": null,
      "metadata": {},
      "outputs": [],
      "source": [
        "# Create a comprehensive project\n",
        "project1 = client.projects.create(\n",
        "    project_id=\"data-pipeline-2024\",\n",
        "    label=\"Data Processing Pipeline\",\n",
        "    description=\"A comprehensive data processing pipeline for customer analytics\",\n",
        "    location=\"/projects/data/customer-analytics\",\n",
        "    status=\"active\",\n",
        ")\n",
        "\n",
        "print(\"\u2705 Created project 1:\")\n",
        "print(f\"   ID: {project1.id}\")\n",
        "print(f\"   Label: {project1.label}\")\n",
        "print(f\"   Status: {project1.status}\")"
      ]
    },
    {
      "cell_type": "code",
      "execution_count": null,
      "metadata": {},
      "outputs": [],
      "source": [
        "# Create a minimal project\n",
        "project2 = client.projects.create(project_id=\"quick-experiment\", label=\"Quick Experiment\")\n",
        "\n",
        "print(\"\u2705 Created project 2:\")\n",
        "print(f\"   ID: {project2.id}\")\n",
        "print(f\"   Label: {project2.label}\")\n",
        "print(f\"   Status: {project2.status}\")\n",
        "print(f\"   Description: '{project2.description}'\")"
      ]
    },
    {
      "cell_type": "markdown",
      "metadata": {},
      "source": [
        "## 2. Listing Projects\n",
        "\n",
        "Let's see all the projects we have:"
      ]
    },
    {
      "cell_type": "code",
      "execution_count": null,
      "metadata": {},
      "outputs": [],
      "source": [
        "# Get all projects\n",
        "projects = client.projects.list()\n",
        "\n",
        "print(f\"\ud83d\udccb Found {len(projects)} projects:\")\n",
        "print()\n",
        "\n",
        "for i, project in enumerate(projects, 1):\n",
        "    print(f\"{i:2}. {project.id}\")\n",
        "    print(f\"     Label: {project.label}\")\n",
        "    print(f\"     Status: {project.status}\")\n",
        "    if project.description:\n",
        "        print(f\"     Description: {project.description[:50]}{'...' if len(project.description) > 50 else ''}\")\n",
        "    print()"
      ]
    },
    {
      "cell_type": "markdown",
      "metadata": {},
      "source": [
        "## 3. Retrieving Specific Projects\n",
        "\n",
        "Get detailed information about a specific project:"
      ]
    },
    {
      "cell_type": "code",
      "execution_count": null,
      "metadata": {},
      "outputs": [],
      "source": [
        "# Get project details\n",
        "project = client.projects.get(\"data-pipeline-2024\")\n",
        "\n",
        "print(\"\ud83d\udcca Project Details:\")\n",
        "print(f\"   ID: {project.id}\")\n",
        "print(f\"   Label: {project.label}\")\n",
        "print(f\"   Description: {project.description}\")\n",
        "print(f\"   Status: {project.status}\")\n",
        "print(f\"   Location: {project.location}\")\n",
        "print(f\"   Metadata Version: {project.metadata_version}\")"
      ]
    },
    {
      "cell_type": "markdown",
      "metadata": {},
      "source": [
        "## 4. Updating Projects\n",
        "\n",
        "Modify existing projects:"
      ]
    },
    {
      "cell_type": "code",
      "execution_count": null,
      "metadata": {},
      "outputs": [],
      "source": [
        "# Update project status and description\n",
        "updated_project = client.projects.update(\n",
        "    project_id=\"quick-experiment\",\n",
        "    status=\"in-progress\",\n",
        "    description=\"Testing various ML algorithms for classification\",\n",
        "    location=\"/experiments/ml/classification\",\n",
        ")\n",
        "\n",
        "print(\"\u2705 Updated project:\")\n",
        "print(f\"   ID: {updated_project.id}\")\n",
        "print(f\"   Label: {updated_project.label}\")\n",
        "print(f\"   Status: {updated_project.status}\")\n",
        "print(f\"   Description: {updated_project.description}\")\n",
        "print(f\"   Location: {updated_project.location}\")"
      ]
    },
    {
      "cell_type": "markdown",
      "metadata": {},
      "source": [
        "## 5. Working with Project Files\n",
        "\n",
        "Let's explore the actual files created on disk:"
      ]
    },
    {
      "cell_type": "code",
      "execution_count": null,
      "metadata": {},
      "outputs": [],
      "source": [
        "import json\n",
        "\n",
        "import yaml\n",
        "\n",
        "# Get project directory\n",
        "project_dir = config.local_projects_path / \"data-pipeline-2024\"\n",
        "print(f\"\ud83d\udcc1 Project directory: {project_dir}\")\n",
        "print(f\"\ud83d\udcc1 Directory exists: {project_dir.exists()}\")\n",
        "print()\n",
        "\n",
        "# List files in project\n",
        "if project_dir.exists():\n",
        "    print(\"\ud83d\udcc4 Files in project:\")\n",
        "    for file in project_dir.iterdir():\n",
        "        print(f\"   - {file.name} ({file.stat().st_size} bytes)\")\n",
        "    print()"
      ]
    },
    {
      "cell_type": "code",
      "execution_count": null,
      "metadata": {},
      "outputs": [],
      "source": [
        "# Read and display metadata file\n",
        "metadata_file = project_dir / \"metadata.yaml\"\n",
        "if metadata_file.exists():\n",
        "    with open(metadata_file) as f:\n",
        "        metadata = yaml.safe_load(f)\n",
        "\n",
        "    print(\"\ud83d\udccb Project Metadata:\")\n",
        "    print(json.dumps(metadata, indent=2))\n",
        "    print()"
      ]
    },
    {
      "cell_type": "code",
      "execution_count": null,
      "metadata": {},
      "outputs": [],
      "source": [
        "# Read graph and parameters files\n",
        "graph_file = project_dir / \"graph.json\"\n",
        "params_file = project_dir / \"parameters.json\"\n",
        "\n",
        "if graph_file.exists():\n",
        "    with open(graph_file) as f:\n",
        "        graph_data = json.load(f)\n",
        "    print(\"\ud83d\udd17 Graph Structure:\")\n",
        "    print(json.dumps(graph_data, indent=2))\n",
        "    print()\n",
        "\n",
        "if params_file.exists():\n",
        "    with open(params_file) as f:\n",
        "        params_data = json.load(f)\n",
        "    print(\"\u2699\ufe0f  Parameters:\")\n",
        "    print(json.dumps(params_data, indent=2))"
      ]
    },
    {
      "cell_type": "markdown",
      "metadata": {},
      "source": [
        "## 6. Error Handling\n",
        "\n",
        "Let's test error handling for non-existent projects:"
      ]
    },
    {
      "cell_type": "code",
      "execution_count": null,
      "metadata": {},
      "outputs": [],
      "source": [
        "# Try to get a non-existent project\n",
        "try:\n",
        "    missing_project = client.projects.get(\"non-existent-project\")\n",
        "    print(f\"Found project: {missing_project.id}\")\n",
        "except FileNotFoundError:\n",
        "    print(\"\u274c Project 'non-existent-project' not found (expected behavior)\")\n",
        "except Exception as e:\n",
        "    print(f\"\u274c Unexpected error: {e}\")"
      ]
    },
    {
      "cell_type": "markdown",
      "metadata": {},
      "source": [
        "## 7. Batch Operations\n",
        "\n",
        "Create multiple projects and work with them:"
      ]
    },
    {
      "cell_type": "code",
      "execution_count": null,
      "metadata": {},
      "outputs": [],
      "source": [
        "# Create multiple test projects\n",
        "test_projects = [\n",
        "    {\n",
        "        \"project_id\": \"ml-model-training\",\n",
        "        \"label\": \"ML Model Training\",\n",
        "        \"description\": \"Training deep learning models for image classification\",\n",
        "        \"status\": \"training\",\n",
        "    },\n",
        "    {\n",
        "        \"project_id\": \"data-preprocessing\",\n",
        "        \"label\": \"Data Preprocessing\",\n",
        "        \"description\": \"Cleaning and preparing raw data for analysis\",\n",
        "        \"status\": \"active\",\n",
        "    },\n",
        "    {\n",
        "        \"project_id\": \"model-evaluation\",\n",
        "        \"label\": \"Model Evaluation\",\n",
        "        \"description\": \"Evaluating and comparing different model performances\",\n",
        "        \"status\": \"pending\",\n",
        "    },\n",
        "]\n",
        "\n",
        "created_projects = []\n",
        "for project_data in test_projects:\n",
        "    project = client.projects.create(**project_data)\n",
        "    created_projects.append(project)\n",
        "    print(f\"\u2705 Created: {project.id} - {project.label}\")\n",
        "\n",
        "print(f\"\\n\ud83d\udcca Created {len(created_projects)} test projects\")"
      ]
    },
    {
      "cell_type": "code",
      "execution_count": null,
      "metadata": {},
      "outputs": [],
      "source": [
        "# Filter projects by status\n",
        "all_projects = client.projects.list()\n",
        "\n",
        "# Group by status\n",
        "by_status = {}\n",
        "for project in all_projects:\n",
        "    status = project.status or \"unknown\"\n",
        "    if status not in by_status:\n",
        "        by_status[status] = []\n",
        "    by_status[status].append(project)\n",
        "\n",
        "print(\"\ud83d\udcca Projects by Status:\")\n",
        "for status, projects in by_status.items():\n",
        "    print(f\"\\n\ud83c\udff7\ufe0f  {status.upper()}: {len(projects)} projects\")\n",
        "    for project in projects:\n",
        "        print(f\"   - {project.id}: {project.label}\")"
      ]
    },
    {
      "cell_type": "markdown",
      "metadata": {},
      "source": [
        "## 8. Cleanup (Optional)\n",
        "\n",
        "Delete test projects if needed:"
      ]
    },
    {
      "cell_type": "code",
      "execution_count": null,
      "metadata": {},
      "outputs": [],
      "source": [
        "# Uncomment and run this cell if you want to clean up test projects\n",
        "\n",
        "# test_project_ids = [\"ml-model-training\", \"data-preprocessing\", \"model-evaluation\"]\n",
        "\n",
        "# for project_id in test_project_ids:\n",
        "#     try:\n",
        "#         client.projects.delete(project_id)\n",
        "#         print(f\"\ud83d\uddd1\ufe0f Deleted: {project_id}\")\n",
        "#     except FileNotFoundError:\n",
        "#         print(f\"\u274c Project {project_id} not found\")\n",
        "\n",
        "print(\"\ud83d\udca1 Uncomment the code above to delete test projects\")"
      ]
    },
    {
      "cell_type": "markdown",
      "metadata": {},
      "source": [
        "## 9. Your Experiments\n",
        "\n",
        "Use the cells below for your own experiments:"
      ]
    },
    {
      "cell_type": "code",
      "execution_count": null,
      "metadata": {},
      "outputs": [],
      "source": [
        "# Your code here - experiment with the fluidize client!\n",
        "\n"
      ]
    },
    {
      "cell_type": "code",
      "execution_count": null,
      "metadata": {},
      "outputs": [],
      "source": [
        "# More experimentation space\n",
        "\n"
      ]
    },
    {
      "cell_type": "markdown",
      "metadata": {},
      "source": [
        "## Summary\n",
        "\n",
        "This notebook demonstrated:\n",
        "\n",
        "\u2705 **Simple Import** - Just `from fluidize.client import FluidizeClient`  \n",
        "\u2705 **Project CRUD Operations** - Create, Read, Update, Delete  \n",
        "\u2705 **File System Integration** - Projects stored in `~/.fluidize/projects/`  \n",
        "\u2705 **Error Handling** - Proper exceptions for missing projects  \n",
        "\u2705 **Batch Operations** - Working with multiple projects  \n",
        "\u2705 **File Inspection** - Viewing generated metadata, graph, and parameter files  \n",
        "\n",
        "**Next Steps:**\n",
        "- Explore more complex project configurations\n",
        "- Build workflow graphs (coming soon)\n",
        "- Integrate with simulation runners (coming soon)\n",
        "- Connect to cloud APIs (API mode)\n"
      ]
    }
  ],
  "metadata": {
    "kernelspec": {
      "display_name": "Python 3",
      "language": "python",
      "name": "python3"
    },
    "language_info": {
      "codemirror_mode": {
        "name": "ipython",
        "version": 3
      },
      "file_extension": ".py",
      "mimetype": "text/x-python",
      "name": "python",
      "nbconvert_exporter": "python",
      "nbconvert_exporter_version": "6.5.0",
      "pygments_lexer": "ipython3",
      "version": "3.11.8"
    }
  },
  "nbformat": 4,
  "nbformat_minor": 4
}
