{
  "cells": [
    {
      "cell_type": "markdown",
      "metadata": {},
      "source": [
        "# Fluidize-Python Interactive Demo\n",
        "\n",
        "This notebook demonstrates the fluidize-python library for managing scientific computing projects.\n",
        "\n",
        "## Setup\n",
        "\n",
        "First, let's import the client and see where our projects will be stored:"
      ]
    },
    {
      "cell_type": "code",
      "execution_count": 4,
      "metadata": {},
      "outputs": [
        {
          "name": "stdout",
          "output_type": "stream",
          "text": [
            "\ud83d\udcc1 Projects will be stored in: /Users/henrybae/.fluidize/projects\n",
            "\ud83d\udcc1 Base directory: /Users/henrybae/.fluidize\n",
            "\ud83d\ude80 Client ready in 'local' mode!\n"
          ]
        }
      ],
      "source": [
        "# Import the fluidize client - handlers auto-register!\n",
        "from fluidize.client import FluidizeClient\n",
        "\n",
        "# Create client and config\n",
        "client = FluidizeClient(mode=\"local\")\n",
        "\n",
        "print(f\"\ud83d\udcc1 Projects will be stored in: {client.config.local_projects_path}\")\n",
        "print(f\"\ud83d\udcc1 Base directory: {client.config.local_base_path}\")\n",
        "print(f\"\ud83d\ude80 Client ready in '{client.mode}' mode!\")"
      ]
    },
    {
      "cell_type": "markdown",
      "metadata": {},
      "source": [
        "## 1. Creating Projects\n",
        "\n",
        "Let's create some projects with different configurations:"
      ]
    },
    {
      "cell_type": "code",
      "execution_count": 5,
      "metadata": {},
      "outputs": [
        {
          "name": "stdout",
          "output_type": "stream",
          "text": [
            "\u2705 Created project 1:\n",
            "   ID: MUJOCO\n",
            "   Label: MUJOCO DEMO\n",
            "   Status: active\n"
          ]
        }
      ],
      "source": [
        "# Create a comprehensive project\n",
        "project1 = client.projects.create(\n",
        "    project_id=\"MUJOCO\",\n",
        "    label=\"MUJOCO DEMO\",\n",
        "    description=\"A MuJoCo simulation project\",\n",
        "    status=\"active\",\n",
        ")\n",
        "\n",
        "print(\"\u2705 Created project 1:\")\n",
        "print(f\"   ID: {project1.id}\")\n",
        "print(f\"   Label: {project1.label}\")\n",
        "print(f\"   Status: {project1.status}\")"
      ]
    },
    {
      "cell_type": "code",
      "execution_count": 6,
      "metadata": {},
      "outputs": [
        {
          "name": "stdout",
          "output_type": "stream",
          "text": [
            "\ud83d\udccb Found 2 projects:\n",
            "\n",
            " 1. data-pipeline-2024\n",
            "     Label: Data Processing Pipeline\n",
            "     Status: active\n",
            "     Description: A comprehensive data processing pipeline for custo...\n",
            "\n",
            " 2. MUJOCO\n",
            "     Label: MUJOCO DEMO\n",
            "     Status: active\n",
            "     Description: A MuJoCo simulation project\n",
            "\n"
          ]
        }
      ],
      "source": [
        "# Get all projects\n",
        "projects = client.projects.list()\n",
        "\n",
        "print(f\"\ud83d\udccb Found {len(projects)} projects:\")\n",
        "print()\n",
        "\n",
        "for i, project in enumerate(projects, 1):\n",
        "    print(f\"{i:2}. {project.id}\")\n",
        "    print(f\"     Label: {project.label}\")\n",
        "    print(f\"     Status: {project.status}\")\n",
        "    if project.description:\n",
        "        print(f\"     Description: {project.description[:50]}{'...' if len(project.description) > 50 else ''}\")\n",
        "    print()"
      ]
    },
    {
      "cell_type": "markdown",
      "metadata": {},
      "source": [
        "## 2. Creating Nodes"
      ]
    },
    {
      "cell_type": "code",
      "execution_count": 7,
      "metadata": {},
      "outputs": [
        {
          "name": "stdout",
          "output_type": "stream",
          "text": [
            "\ud83d\udce6 Imported all node creation types successfully!\n"
          ]
        }
      ],
      "source": [
        "# Import required types for creating nodes from scratch\n",
        "import datetime\n",
        "\n",
        "from fluidize.core.types.graph import GraphNode, Position, graphNodeData\n",
        "from fluidize.core.types.node import author, nodeMetadata_simulation, nodeProperties_simulation, tag\n",
        "\n",
        "print(\"\ud83d\udce6 Imported all node creation types successfully!\")"
      ]
    },
    {
      "cell_type": "markdown",
      "metadata": {},
      "source": [
        "### Creating Nodes in Two Ways\n",
        "\n",
        "Fluidize supports two approaches for creating nodes in your project graph:\n",
        "\n",
        "1. **`add_node()`** - For nodes that use existing simulation templates\n",
        "2. **`add_node_from_scratch()`** - Complete node creation with all files and directories\n",
        "\n",
        "Let's demonstrate the comprehensive `add_node_from_scratch` approach that creates:\n",
        "- Graph node entry in `graph.json`\n",
        "- Complete `properties.yaml` with container configuration\n",
        "- Rich `metadata.yaml` with authors, tags, and references\n",
        "- Source directory (optionally cloned from a repository)"
      ]
    },
    {
      "cell_type": "code",
      "execution_count": 11,
      "metadata": {},
      "outputs": [
        {
          "name": "stdout",
          "output_type": "stream",
          "text": [
            "\ud83c\udfaf Working with project: MUJOCO DEMO\n",
            "\ud83d\udcca Current graph state: 0 nodes, 0 edges\n"
          ]
        }
      ],
      "source": [
        "# Get our MUJOCO project for node creation\n",
        "project = client.projects.get(\"MUJOCO\")\n",
        "\n",
        "print(f\"\ud83c\udfaf Working with project: {project.label}\")\n",
        "print(f\"\ud83d\udcca Current graph state: {len(project.graph.get().nodes)} nodes, {len(project.graph.get().edges)} edges\")"
      ]
    },
    {
      "cell_type": "markdown",
      "metadata": {},
      "source": [
        "### Complete Node Creation Example\n",
        "\n",
        "Let's create a comprehensive MuJoCo simulation node with all metadata:"
      ]
    },
    {
      "cell_type": "code",
      "execution_count": 12,
      "metadata": {},
      "outputs": [
        {
          "name": "stdout",
          "output_type": "stream",
          "text": [
            "\u2705 Created GraphNode:\n",
            "   ID: Mujoco-Simulation\n",
            "   Label: MuJoCo Humanoid Simulation\n",
            "   Position: (150.0, 100.0)\n"
          ]
        }
      ],
      "source": [
        "# 1. Create the GraphNode (defines position and basic info in the graph)\n",
        "mujoco_graph_node = GraphNode(\n",
        "    id=\"Mujoco-Simulation\",\n",
        "    position=Position(x=150.0, y=100.0),\n",
        "    data=graphNodeData(label=\"MuJoCo Humanoid Simulation\"),\n",
        "    type=\"physics-simulation\",\n",
        ")\n",
        "\n",
        "print(\"\u2705 Created GraphNode:\")\n",
        "print(f\"   ID: {mujoco_graph_node.id}\")\n",
        "print(f\"   Label: {mujoco_graph_node.data.label}\")\n",
        "print(f\"   Position: ({mujoco_graph_node.position.x}, {mujoco_graph_node.position.y})\")"
      ]
    },
    {
      "cell_type": "code",
      "execution_count": 13,
      "metadata": {},
      "outputs": [
        {
          "name": "stdout",
          "output_type": "stream",
          "text": [
            "\u2705 Created nodeProperties:\n",
            "   Container: nvidia/cuda:11.8-devel-ubuntu20.04\n",
            "   Mount path: source\n",
            "   Output folder: source/outputs\n",
            "   Should run: True\n"
          ]
        }
      ],
      "source": [
        "# 2. Create nodeProperties (container and execution configuration)\n",
        "mujoco_properties = nodeProperties_simulation(\n",
        "    # Required fields\n",
        "    container_image=\"nvidia/cuda:11.8-devel-ubuntu20.04\",  # Docker image with CUDA support\n",
        "    simulation_mount_path=\"source\",  # Mount path inside container\n",
        "    source_output_folder=\"source/outputs\",  # Where outputs are stored\n",
        ")\n",
        "\n",
        "mujoco_metadata = nodeMetadata_simulation(\n",
        "    name=\"MuJoCo Humanoid Locomotion Demo\",\n",
        "    id=\"mujoco-humanoid-demo\",\n",
        "    version=\"0.1\",\n",
        "    description=\"A demo simulation of a humanoid in MuJoCo\",\n",
        "    date=datetime.date.today(),\n",
        "    authors=[],\n",
        "    tags=[]\n",
        ")\n",
        "\n",
        "print(\"\u2705 Created nodeProperties:\")\n",
        "print(f\"   Container: {mujoco_properties.container_image}\")\n",
        "print(f\"   Mount path: {mujoco_properties.simulation_mount_path}\")\n",
        "print(f\"   Output folder: {mujoco_properties.source_output_folder}\")\n",
        "print(f\"   Should run: {mujoco_properties.should_run}\")"
      ]
    },
    {
      "cell_type": "code",
      "execution_count": 14,
      "metadata": {},
      "outputs": [
        {
          "name": "stdout",
          "output_type": "stream",
          "text": [
            "\ud83d\ude80 Creating node from scratch...\n",
            "Warning: Required field 'authors' is missing or empty in nodeMetadata\n",
            "Info: Optional field 'image_name' not provided in nodeProperties\n",
            "Info: Optional field 'last_run' not provided in nodeProperties\n",
            "Info: Optional field 'code_url' not provided in nodeMetadata\n",
            "Info: Optional field 'paper_url' not provided in nodeMetadata\n",
            "Info: Optional field 'tags' not provided in nodeMetadata\n",
            "\u2705 Node created successfully!\n",
            "   Node ID: Mujoco-Simulation\n",
            "   Label: MuJoCo Humanoid Simulation\n",
            "   Type: physics-simulation\n",
            "   Simulation ID: None\n"
          ]
        }
      ],
      "source": [
        "# 4. Create the complete node from scratch!\n",
        "print(\"\ud83d\ude80 Creating node from scratch...\")\n",
        "\n",
        "created_node = project.graph.add_node_from_scratch(\n",
        "    node=mujoco_graph_node,\n",
        "    node_properties=mujoco_properties,\n",
        "    node_metadata=mujoco_metadata,\n",
        ")\n",
        "\n",
        "print(\"\u2705 Node created successfully!\")\n",
        "print(f\"   Node ID: {created_node.id}\")\n",
        "print(f\"   Label: {created_node.data.label}\")\n",
        "print(f\"   Type: {created_node.type}\")\n",
        "print(f\"   Simulation ID: {created_node.data.simulation_id}\")\n"
      ]
    },
    {
      "cell_type": "markdown",
      "metadata": {},
      "source": [
        "### Minimal Node Creation Example\n",
        "\n",
        "For simpler use cases, here's a minimal example with only required fields:"
      ]
    },
    {
      "cell_type": "code",
      "execution_count": null,
      "metadata": {},
      "outputs": [],
      "source": [
        "# Minimal node creation with only required fields\n",
        "minimal_node = GraphNode(\n",
        "    id=\"simple-physics-sim\",\n",
        "    position=Position(x=300.0, y=100.0),\n",
        "    data=graphNodeData(label=\"Simple Physics Sim\", simulation_id=\"simple-physics\"),\n",
        "    type=\"basic-simulation\",\n",
        ")\n",
        "\n",
        "minimal_properties = nodeProperties_simulation(\n",
        "    container_image=\"python:3.9\",  # Required\n",
        "    simulation_mount_path=\"/app\",  # Required\n",
        ")\n",
        "\n",
        "minimal_metadata = nodeMetadata_simulation(\n",
        "    name=\"Simple Physics Simulation\",\n",
        "    id=\"simple-physics\",\n",
        "    description=\"A basic physics simulation for testing\",\n",
        "    version=\"1.0\",\n",
        "    date=datetime.date.today(),  # Required despite Optional type\n",
        "    code_url=\"https://github.com/example/simple-sim\",  # Required despite Optional type\n",
        "    paper_url=\"https://doi.org/10.1000/example.paper\",  # Required despite Optional type\n",
        "    authors=[author(name=\"Demo User\", institution=\"Example University\")],\n",
        "    tags=[],  # Empty list is fine\n",
        ")\n",
        "\n",
        "# Create the minimal node\n",
        "simple_node = project.graph.add_node_from_scratch(\n",
        "    node=minimal_node, node_properties=minimal_properties, node_metadata=minimal_metadata\n",
        ")\n",
        "\n",
        "print(\"\u2705 Minimal node created!\")\n",
        "print(f\"   ID: {simple_node.id}\")\n",
        "print(f\"   Label: {simple_node.data.label}\")"
      ]
    },
    {
      "cell_type": "markdown",
      "metadata": {},
      "source": [
        "### Verify Node Creation\n",
        "\n",
        "Let's check that our nodes were created successfully and explore what files were generated:"
      ]
    },
    {
      "cell_type": "code",
      "execution_count": null,
      "metadata": {},
      "outputs": [],
      "source": [
        "# Check the updated graph state\n",
        "updated_graph = project.graph.get()\n",
        "\n",
        "print(\"\ud83d\udcca Updated Graph State:\")\n",
        "print(f\"   Nodes: {len(updated_graph.nodes)}\")\n",
        "print(f\"   Edges: {len(updated_graph.edges)}\")\n",
        "print()\n",
        "\n",
        "print(\"\ud83d\udd0d Created Nodes:\")\n",
        "for i, node in enumerate(updated_graph.nodes, 1):\n",
        "    print(f\"   {i}. {node.id}\")\n",
        "    print(f\"      Label: {node.data.label}\")\n",
        "    print(f\"      Type: {node.type}\")\n",
        "    print(f\"      Position: ({node.position.x}, {node.position.y})\")\n",
        "    print(f\"      Simulation ID: {node.data.simulation_id}\")\n",
        "    print()"
      ]
    },
    {
      "cell_type": "code",
      "execution_count": null,
      "metadata": {},
      "outputs": [],
      "source": [
        "# Let's also check what files were created for our nodes\n",
        "\n",
        "print(\"\ud83d\udcc1 Node Directory Structure:\")\n",
        "print()\n",
        "\n",
        "# Check the project directory structure\n",
        "project_path = client.config.local_projects_path / project.id\n",
        "nodes_to_check = [\"mujoco-humanoid-sim-001\", \"simple-physics-sim\"]\n",
        "\n",
        "for node_id in nodes_to_check:\n",
        "    node_path = project_path / \"nodes\" / node_id\n",
        "    if node_path.exists():\n",
        "        print(f\"\ud83d\udcc2 Node: {node_id}\")\n",
        "        for file in sorted(node_path.iterdir()):\n",
        "            if file.is_file():\n",
        "                size = file.stat().st_size\n",
        "                print(f\"   \ud83d\udcc4 {file.name} ({size} bytes)\")\n",
        "            elif file.is_dir():\n",
        "                print(f\"   \ud83d\udcc1 {file.name}/ (directory)\")\n",
        "                # Show a few files in subdirectories\n",
        "                try:\n",
        "                    subfiles = list(file.iterdir())[:3]  # First 3 files\n",
        "                    for subfile in subfiles:\n",
        "                        if subfile.is_file():\n",
        "                            print(f\"      \ud83d\udcc4 {subfile.name}\")\n",
        "                    if len(list(file.iterdir())) > 3:\n",
        "                        print(f\"      ... and {len(list(file.iterdir())) - 3} more files\")\n",
        "                except:\n",
        "                    pass\n",
        "        print()\n",
        "    else:\n",
        "        print(f\"\u274c Node directory not found: {node_path}\")\n",
        "        print()\n",
        "\n",
        "print(\"\ud83c\udf89 Node creation from scratch is complete!\")\n",
        "print(\"Each node now has its own directory with:\")\n",
        "print(\"   \u2022 properties.yaml - Container and execution settings\")\n",
        "print(\"   \u2022 metadata.yaml - Rich metadata with authors and tags\")\n",
        "print(\"   \u2022 source/ - Directory for simulation code (cloned if repo provided)\")\n",
        "print(\"   \u2022 Complete graph entry in project's graph.json\")"
      ]
    },
    {
      "cell_type": "markdown",
      "metadata": {},
      "source": [
        "## 3. Retrieving Specific Projects\n",
        "\n",
        "Get detailed information about a specific project:"
      ]
    },
    {
      "cell_type": "code",
      "execution_count": 9,
      "metadata": {},
      "outputs": [
        {
          "name": "stdout",
          "output_type": "stream",
          "text": [
            "\ud83d\udcca Project Details:\n",
            "   ID: MUJOCO\n",
            "   Label: MUJOCO DEMO\n",
            "   Description: A MuJoCo simulation project\n",
            "   Status: active\n",
            "   Location: \n",
            "   Metadata Version: 1.0\n"
          ]
        }
      ],
      "source": [
        "# Get project details\n",
        "project = client.projects.get(\"MUJOCO\")\n",
        "\n",
        "print(\"\ud83d\udcca Project Details:\")\n",
        "print(f\"   ID: {project.id}\")\n",
        "print(f\"   Label: {project.label}\")\n",
        "print(f\"   Description: {project.description}\")\n",
        "print(f\"   Status: {project.status}\")\n",
        "print(f\"   Location: {project.location}\")\n",
        "print(f\"   Metadata Version: {project.metadata_version}\")"
      ]
    },
    {
      "cell_type": "code",
      "execution_count": 7,
      "metadata": {
        "scrolled": true
      },
      "outputs": [
        {
          "name": "stdout",
          "output_type": "stream",
          "text": [
            "No start node provided, using first node: node-1754038461760\n",
            "BFS traversal starting from node 'node-1754038461760':\n",
            "  - Adding node to traversal: node-1754038461760, previous node: None\n",
            "    - Adding neighbor to queue: node-1754038465820, will follow node-1754038461760\n",
            "  - Adding node to traversal: node-1754038465820, previous node: node-1754038461760\n",
            "Nodes to run: ['node-1754038461760', 'node-1754038465820']\n",
            "Created project run folder: /Users/henrybae/.fluidize/projects/project-1754038373536/runs/run_6\n",
            "Created run environment with number: 6\n"
          ]
        },
        {
          "data": {
            "text/plain": [
              "{'flow_status': 'running', 'run_number': 6}"
            ]
          },
          "execution_count": 7,
          "metadata": {},
          "output_type": "execute_result"
        },
        {
          "name": "stderr",
          "output_type": "stream",
          "text": [
            "No parameters.json found for node node-1754038461760\n"
          ]
        },
        {
          "name": "stdout",
          "output_type": "stream",
          "text": [
            "Executing node node-1754038461760 in run 6\n",
            "\n",
            "=== Starting run for node: node-1754038461760 ===\n",
            "1. Preparing environment...\n",
            "\ud83d\udd27 [Environment] Processing 0 targeted files (vs exhaustive search)\n",
            "2. Executing simulation...\n"
          ]
        },
        {
          "name": "stderr",
          "output_type": "stream",
          "text": [
            "No parameters.json found for node node-1754038465820\n"
          ]
        },
        {
          "name": "stdout",
          "output_type": "stream",
          "text": [
            "3. Handling files...\n",
            "=== Run completed for node: node-1754038461760 with result: True ===\n",
            "\n",
            "Executing node node-1754038465820 in run 6\n",
            "\n",
            "=== Starting run for node: node-1754038465820 ===\n",
            "1. Preparing environment...\n",
            "\ud83d\udd27 [Environment] Processing 0 targeted files (vs exhaustive search)\n",
            "2. Executing simulation...\n",
            "3. Handling files...\n",
            "=== Run completed for node: node-1754038465820 with result: True ===\n",
            "\n"
          ]
        }
      ],
      "source": [
        "from fluidize.core.types.runs import RunFlowPayload\n",
        "\n",
        "payload = RunFlowPayload(\n",
        "    name=\"simulation-run-1\", description=\"Running simulation flow\", tags=[\"simulation\", \"analysis\"]\n",
        ")\n",
        "\n",
        "\n",
        "project.runs.run_flow(payload)"
      ]
    },
    {
      "cell_type": "markdown",
      "metadata": {},
      "source": [
        "## 4. Updating Projects\n",
        "\n",
        "Modify existing projects:"
      ]
    }
  ],
  "metadata": {
    "kernelspec": {
      "display_name": "fluidize-python",
      "language": "python",
      "name": "python3"
    },
    "language_info": {
      "codemirror_mode": {
        "name": "ipython",
        "version": 3
      },
      "file_extension": ".py",
      "mimetype": "text/x-python",
      "name": "python",
      "nbconvert_exporter": "python",
      "pygments_lexer": "ipython3",
      "version": "3.10.18"
    }
  },
  "nbformat": 4,
  "nbformat_minor": 4
}
