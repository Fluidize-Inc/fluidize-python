{
  "cells": [
    {
      "cell_type": "markdown",
      "metadata": {},
      "source": [
        "# Fluidize-Python Interactive Demo\n",
        "\n",
        "This notebook demonstrates the fluidize-python library for managing scientific computing projects.\n",
        "\n",
        "## Setup\n",
        "\n",
        "First, let's import the client and see where our projects will be stored:"
      ]
    },
    {
      "cell_type": "code",
      "execution_count": 7,
      "metadata": {},
      "outputs": [
        {
          "name": "stdout",
          "output_type": "stream",
          "text": [
            "\ud83d\udcc1 Projects will be stored in: /Users/henrybae/.fluidize/projects\n",
            "\ud83d\udcc1 Base directory: /Users/henrybae/.fluidize\n",
            "\ud83d\ude80 Client ready in 'local' mode!\n"
          ]
        }
      ],
      "source": [
        "# Import the fluidize client - handlers auto-register!\n",
        "from fluidize.client import FluidizeClient\n",
        "\n",
        "# Create client and config\n",
        "client = FluidizeClient(mode=\"local\")\n",
        "\n",
        "print(f\"\ud83d\udcc1 Projects will be stored in: {client.config.local_projects_path}\")\n",
        "print(f\"\ud83d\udcc1 Base directory: {client.config.local_base_path}\")\n",
        "print(f\"\ud83d\ude80 Client ready in '{client.mode}' mode!\")"
      ]
    },
    {
      "cell_type": "markdown",
      "metadata": {},
      "source": [
        "## 1. Creating Projects\n",
        "\n",
        "Let's create some projects with different configurations:"
      ]
    },
    {
      "cell_type": "code",
      "execution_count": 5,
      "metadata": {},
      "outputs": [
        {
          "name": "stdout",
          "output_type": "stream",
          "text": [
            "\u2705 Created project 1:\n",
            "   ID: MUJOCO\n",
            "   Label: MUJOCO DEMO\n",
            "   Status: active\n"
          ]
        }
      ],
      "source": [
        "# Create a comprehensive project\n",
        "project1 = client.projects.create(\n",
        "    project_id=\"MUJOCO\",\n",
        "    label=\"MUJOCO DEMO\",\n",
        "    description=\"A MuJoCo simulation project\",\n",
        "    status=\"active\",\n",
        ")\n",
        "\n",
        "print(\"\u2705 Created project 1:\")\n",
        "print(f\"   ID: {project1.id}\")\n",
        "print(f\"   Label: {project1.label}\")\n",
        "print(f\"   Status: {project1.status}\")"
      ]
    },
    {
      "cell_type": "code",
      "execution_count": 6,
      "metadata": {},
      "outputs": [
        {
          "name": "stdout",
          "output_type": "stream",
          "text": [
            "\ud83d\udccb Found 2 projects:\n",
            "\n",
            " 1. data-pipeline-2024\n",
            "     Label: Data Processing Pipeline\n",
            "     Status: active\n",
            "     Description: A comprehensive data processing pipeline for custo...\n",
            "\n",
            " 2. MUJOCO\n",
            "     Label: MUJOCO DEMO\n",
            "     Status: active\n",
            "     Description: A MuJoCo simulation project\n",
            "\n"
          ]
        }
      ],
      "source": [
        "# Get all projects\n",
        "projects = client.projects.list()\n",
        "\n",
        "print(f\"\ud83d\udccb Found {len(projects)} projects:\")\n",
        "print()\n",
        "\n",
        "for i, project in enumerate(projects, 1):\n",
        "    print(f\"{i:2}. {project.id}\")\n",
        "    print(f\"     Label: {project.label}\")\n",
        "    print(f\"     Status: {project.status}\")\n",
        "    if project.description:\n",
        "        print(f\"     Description: {project.description[:50]}{'...' if len(project.description) > 50 else ''}\")\n",
        "    print()"
      ]
    },
    {
      "cell_type": "markdown",
      "metadata": {},
      "source": [
        "## 2. Creating Nodes"
      ]
    },
    {
      "cell_type": "code",
      "execution_count": null,
      "metadata": {},
      "outputs": [],
      "source": []
    },
    {
      "cell_type": "markdown",
      "metadata": {},
      "source": [
        "## 3. Retrieving Specific Projects\n",
        "\n",
        "Get detailed information about a specific project:"
      ]
    },
    {
      "cell_type": "code",
      "execution_count": 9,
      "metadata": {},
      "outputs": [
        {
          "name": "stdout",
          "output_type": "stream",
          "text": [
            "\ud83d\udcca Project Details:\n",
            "   ID: MUJOCO\n",
            "   Label: MUJOCO DEMO\n",
            "   Description: A MuJoCo simulation project\n",
            "   Status: active\n",
            "   Location: \n",
            "   Metadata Version: 1.0\n"
          ]
        }
      ],
      "source": [
        "# Get project details\n",
        "project = client.projects.get(\"MUJOCO\")\n",
        "\n",
        "print(\"\ud83d\udcca Project Details:\")\n",
        "print(f\"   ID: {project.id}\")\n",
        "print(f\"   Label: {project.label}\")\n",
        "print(f\"   Description: {project.description}\")\n",
        "print(f\"   Status: {project.status}\")\n",
        "print(f\"   Location: {project.location}\")\n",
        "print(f\"   Metadata Version: {project.metadata_version}\")"
      ]
    },
    {
      "cell_type": "code",
      "execution_count": 7,
      "metadata": {
        "scrolled": true
      },
      "outputs": [
        {
          "name": "stdout",
          "output_type": "stream",
          "text": [
            "No start node provided, using first node: node-1754038461760\n",
            "BFS traversal starting from node 'node-1754038461760':\n",
            "  - Adding node to traversal: node-1754038461760, previous node: None\n",
            "    - Adding neighbor to queue: node-1754038465820, will follow node-1754038461760\n",
            "  - Adding node to traversal: node-1754038465820, previous node: node-1754038461760\n",
            "Nodes to run: ['node-1754038461760', 'node-1754038465820']\n",
            "Created project run folder: /Users/henrybae/.fluidize/projects/project-1754038373536/runs/run_6\n",
            "Created run environment with number: 6\n"
          ]
        },
        {
          "data": {
            "text/plain": [
              "{'flow_status': 'running', 'run_number': 6}"
            ]
          },
          "execution_count": 7,
          "metadata": {},
          "output_type": "execute_result"
        },
        {
          "name": "stderr",
          "output_type": "stream",
          "text": [
            "No parameters.json found for node node-1754038461760\n"
          ]
        },
        {
          "name": "stdout",
          "output_type": "stream",
          "text": [
            "Executing node node-1754038461760 in run 6\n",
            "\n",
            "=== Starting run for node: node-1754038461760 ===\n",
            "1. Preparing environment...\n",
            "\ud83d\udd27 [Environment] Processing 0 targeted files (vs exhaustive search)\n",
            "2. Executing simulation...\n"
          ]
        },
        {
          "name": "stderr",
          "output_type": "stream",
          "text": [
            "No parameters.json found for node node-1754038465820\n"
          ]
        },
        {
          "name": "stdout",
          "output_type": "stream",
          "text": [
            "3. Handling files...\n",
            "=== Run completed for node: node-1754038461760 with result: True ===\n",
            "\n",
            "Executing node node-1754038465820 in run 6\n",
            "\n",
            "=== Starting run for node: node-1754038465820 ===\n",
            "1. Preparing environment...\n",
            "\ud83d\udd27 [Environment] Processing 0 targeted files (vs exhaustive search)\n",
            "2. Executing simulation...\n",
            "3. Handling files...\n",
            "=== Run completed for node: node-1754038465820 with result: True ===\n",
            "\n"
          ]
        }
      ],
      "source": [
        "from fluidize.core.types.runs import RunFlowPayload\n",
        "\n",
        "payload = RunFlowPayload(\n",
        "    name=\"simulation-run-1\", description=\"Running simulation flow\", tags=[\"simulation\", \"analysis\"]\n",
        ")\n",
        "\n",
        "\n",
        "project.runs.run_flow(payload)"
      ]
    },
    {
      "cell_type": "markdown",
      "metadata": {},
      "source": [
        "## 4. Updating Projects\n",
        "\n",
        "Modify existing projects:"
      ]
    }
  ],
  "metadata": {
    "kernelspec": {
      "display_name": "Python 3 (ipykernel)",
      "language": "python",
      "name": "python3"
    },
    "language_info": {
      "codemirror_mode": {
        "name": "ipython",
        "version": 3
      },
      "file_extension": ".py",
      "mimetype": "text/x-python",
      "name": "python",
      "nbconvert_exporter": "python",
      "pygments_lexer": "ipython3",
      "version": "3.11.4"
    }
  },
  "nbformat": 4,
  "nbformat_minor": 4
}
